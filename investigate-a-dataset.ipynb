{
 "cells": [
  {
   "cell_type": "markdown",
   "metadata": {},
   "source": [
    "> **Tip**: Welcome to the Investigate a Dataset project! You will find tips in quoted sections like this to help organize your approach to your investigation. Before submitting your project, it will be a good idea to go back through your report and remove these sections to make the presentation of your work as tidy as possible. First things first, you might want to double-click this Markdown cell and change the title so that it reflects your dataset and investigation.\n",
    "\n",
    "# Project: Soccer Database\n",
    "\n",
    "## Table of Contents\n",
    "<ul>\n",
    "<li><a href=\"#intro\">Introduction</a></li>\n",
    "<li><a href=\"#wrangling\">Data Wrangling</a></li>\n",
    "<li><a href=\"#eda\">Exploratory Data Analysis</a></li>\n",
    "<li><a href=\"#conclusions\">Conclusions</a></li>\n",
    "</ul>"
   ]
  },
  {
   "cell_type": "markdown",
   "metadata": {},
   "source": [
    "<a id='intro'></a>\n",
    "## Introduction\n",
    "\n",
    "> **Tip**: In this section of the report, provide a brief introduction to the dataset you've selected for analysis. At the end of this section, describe the questions that you plan on exploring over the course of the report. Try to build your report around the analysis of at least one dependent variable and three independent variables.\n",
    ">\n",
    "> If you haven't yet selected and downloaded your data, make sure you do that first before coming back here. If you're not sure what questions to ask right now, then make sure you familiarize yourself with the variables and the dataset context for ideas of what to explore."
   ]
  },
  {
   "cell_type": "markdown",
   "metadata": {},
   "source": [
    "### at the first, I export two csvs files from the data base by SQL\n",
    "\n",
    "the first csv is contains all data about teams \"teams.csv\"\n",
    "```\n",
    "SELECT t.team_long_name, t.team_short_name,ta.*\n",
    "FROM Team_Attributes  AS ta\n",
    "LEFT JOIN Team AS t\n",
    "ON ta.team_api_id = t.team_api_id \n",
    "\tand ta.team_fifa_api_id = t.team_fifa_api_id;\n",
    "```\n",
    "the second csv is conatains all data about players \"players.csv\"\n",
    "```\n",
    "SELECT pa.player_api_id, pa.player_fifa_api_id, p.player_name,\n",
    "\t\tpa.date, pa.overall_rating, pa.penalties\n",
    "FROM Player_Attributes  AS pa\n",
    "LEFT JOIN Player AS p\n",
    "ON pa.player_api_id = p.player_api_id \n",
    "    and pa.player_fifa_api_id = p.player_fifa_api_id;\n",
    "```"
   ]
  },
  {
   "cell_type": "code",
   "execution_count": 69,
   "metadata": {},
   "outputs": [],
   "source": [
    "import numpy as np\n",
    "import pandas as pd\n",
    "import matplotlib.pyplot as plt\n",
    "import seaborn as sns\n",
    "%matplotlib inline"
   ]
  },
  {
   "cell_type": "markdown",
   "metadata": {},
   "source": [
    "<a id='wrangling'></a>\n",
    "## Data Wrangling\n",
    "\n",
    "> **Tip**: In this section of the report, you will load in the data, check for cleanliness, and then trim and clean your dataset for analysis. Make sure that you document your steps carefully and justify your cleaning decisions.\n",
    "\n",
    "### General Properties"
   ]
  },
  {
   "cell_type": "code",
   "execution_count": 70,
   "metadata": {},
   "outputs": [
    {
     "data": {
      "text/html": [
       "<div>\n",
       "<style scoped>\n",
       "    .dataframe tbody tr th:only-of-type {\n",
       "        vertical-align: middle;\n",
       "    }\n",
       "\n",
       "    .dataframe tbody tr th {\n",
       "        vertical-align: top;\n",
       "    }\n",
       "\n",
       "    .dataframe thead th {\n",
       "        text-align: right;\n",
       "    }\n",
       "</style>\n",
       "<table border=\"1\" class=\"dataframe\">\n",
       "  <thead>\n",
       "    <tr style=\"text-align: right;\">\n",
       "      <th></th>\n",
       "      <th>team_long_name</th>\n",
       "      <th>team_short_name</th>\n",
       "      <th>id</th>\n",
       "      <th>team_fifa_api_id</th>\n",
       "      <th>team_api_id</th>\n",
       "      <th>date</th>\n",
       "      <th>buildUpPlaySpeed</th>\n",
       "      <th>buildUpPlaySpeedClass</th>\n",
       "      <th>buildUpPlayDribbling</th>\n",
       "      <th>buildUpPlayDribblingClass</th>\n",
       "      <th>...</th>\n",
       "      <th>chanceCreationShooting</th>\n",
       "      <th>chanceCreationShootingClass</th>\n",
       "      <th>chanceCreationPositioningClass</th>\n",
       "      <th>defencePressure</th>\n",
       "      <th>defencePressureClass</th>\n",
       "      <th>defenceAggression</th>\n",
       "      <th>defenceAggressionClass</th>\n",
       "      <th>defenceTeamWidth</th>\n",
       "      <th>defenceTeamWidthClass</th>\n",
       "      <th>defenceDefenderLineClass</th>\n",
       "    </tr>\n",
       "  </thead>\n",
       "  <tbody>\n",
       "    <tr>\n",
       "      <th>0</th>\n",
       "      <td>FC Aarau</td>\n",
       "      <td>AAR</td>\n",
       "      <td>1</td>\n",
       "      <td>434</td>\n",
       "      <td>9930</td>\n",
       "      <td>2010-02-22 00:00:00</td>\n",
       "      <td>60</td>\n",
       "      <td>Balanced</td>\n",
       "      <td>NaN</td>\n",
       "      <td>Little</td>\n",
       "      <td>...</td>\n",
       "      <td>55</td>\n",
       "      <td>Normal</td>\n",
       "      <td>Organised</td>\n",
       "      <td>50</td>\n",
       "      <td>Medium</td>\n",
       "      <td>55</td>\n",
       "      <td>Press</td>\n",
       "      <td>45</td>\n",
       "      <td>Normal</td>\n",
       "      <td>Cover</td>\n",
       "    </tr>\n",
       "    <tr>\n",
       "      <th>1</th>\n",
       "      <td>FC Aarau</td>\n",
       "      <td>AAR</td>\n",
       "      <td>2</td>\n",
       "      <td>434</td>\n",
       "      <td>9930</td>\n",
       "      <td>2014-09-19 00:00:00</td>\n",
       "      <td>52</td>\n",
       "      <td>Balanced</td>\n",
       "      <td>48.0</td>\n",
       "      <td>Normal</td>\n",
       "      <td>...</td>\n",
       "      <td>64</td>\n",
       "      <td>Normal</td>\n",
       "      <td>Organised</td>\n",
       "      <td>47</td>\n",
       "      <td>Medium</td>\n",
       "      <td>44</td>\n",
       "      <td>Press</td>\n",
       "      <td>54</td>\n",
       "      <td>Normal</td>\n",
       "      <td>Cover</td>\n",
       "    </tr>\n",
       "    <tr>\n",
       "      <th>2</th>\n",
       "      <td>FC Aarau</td>\n",
       "      <td>AAR</td>\n",
       "      <td>3</td>\n",
       "      <td>434</td>\n",
       "      <td>9930</td>\n",
       "      <td>2015-09-10 00:00:00</td>\n",
       "      <td>47</td>\n",
       "      <td>Balanced</td>\n",
       "      <td>41.0</td>\n",
       "      <td>Normal</td>\n",
       "      <td>...</td>\n",
       "      <td>64</td>\n",
       "      <td>Normal</td>\n",
       "      <td>Organised</td>\n",
       "      <td>47</td>\n",
       "      <td>Medium</td>\n",
       "      <td>44</td>\n",
       "      <td>Press</td>\n",
       "      <td>54</td>\n",
       "      <td>Normal</td>\n",
       "      <td>Cover</td>\n",
       "    </tr>\n",
       "    <tr>\n",
       "      <th>3</th>\n",
       "      <td>Aberdeen</td>\n",
       "      <td>ABE</td>\n",
       "      <td>4</td>\n",
       "      <td>77</td>\n",
       "      <td>8485</td>\n",
       "      <td>2010-02-22 00:00:00</td>\n",
       "      <td>70</td>\n",
       "      <td>Fast</td>\n",
       "      <td>NaN</td>\n",
       "      <td>Little</td>\n",
       "      <td>...</td>\n",
       "      <td>70</td>\n",
       "      <td>Lots</td>\n",
       "      <td>Organised</td>\n",
       "      <td>60</td>\n",
       "      <td>Medium</td>\n",
       "      <td>70</td>\n",
       "      <td>Double</td>\n",
       "      <td>70</td>\n",
       "      <td>Wide</td>\n",
       "      <td>Cover</td>\n",
       "    </tr>\n",
       "    <tr>\n",
       "      <th>4</th>\n",
       "      <td>Aberdeen</td>\n",
       "      <td>ABE</td>\n",
       "      <td>5</td>\n",
       "      <td>77</td>\n",
       "      <td>8485</td>\n",
       "      <td>2011-02-22 00:00:00</td>\n",
       "      <td>47</td>\n",
       "      <td>Balanced</td>\n",
       "      <td>NaN</td>\n",
       "      <td>Little</td>\n",
       "      <td>...</td>\n",
       "      <td>52</td>\n",
       "      <td>Normal</td>\n",
       "      <td>Organised</td>\n",
       "      <td>47</td>\n",
       "      <td>Medium</td>\n",
       "      <td>47</td>\n",
       "      <td>Press</td>\n",
       "      <td>52</td>\n",
       "      <td>Normal</td>\n",
       "      <td>Cover</td>\n",
       "    </tr>\n",
       "  </tbody>\n",
       "</table>\n",
       "<p>5 rows × 27 columns</p>\n",
       "</div>"
      ],
      "text/plain": [
       "  team_long_name team_short_name  id  team_fifa_api_id  team_api_id  \\\n",
       "0       FC Aarau             AAR   1               434         9930   \n",
       "1       FC Aarau             AAR   2               434         9930   \n",
       "2       FC Aarau             AAR   3               434         9930   \n",
       "3       Aberdeen             ABE   4                77         8485   \n",
       "4       Aberdeen             ABE   5                77         8485   \n",
       "\n",
       "                  date  buildUpPlaySpeed buildUpPlaySpeedClass  \\\n",
       "0  2010-02-22 00:00:00                60              Balanced   \n",
       "1  2014-09-19 00:00:00                52              Balanced   \n",
       "2  2015-09-10 00:00:00                47              Balanced   \n",
       "3  2010-02-22 00:00:00                70                  Fast   \n",
       "4  2011-02-22 00:00:00                47              Balanced   \n",
       "\n",
       "   buildUpPlayDribbling buildUpPlayDribblingClass           ...             \\\n",
       "0                   NaN                    Little           ...              \n",
       "1                  48.0                    Normal           ...              \n",
       "2                  41.0                    Normal           ...              \n",
       "3                   NaN                    Little           ...              \n",
       "4                   NaN                    Little           ...              \n",
       "\n",
       "   chanceCreationShooting chanceCreationShootingClass  \\\n",
       "0                      55                      Normal   \n",
       "1                      64                      Normal   \n",
       "2                      64                      Normal   \n",
       "3                      70                        Lots   \n",
       "4                      52                      Normal   \n",
       "\n",
       "  chanceCreationPositioningClass  defencePressure defencePressureClass  \\\n",
       "0                      Organised               50               Medium   \n",
       "1                      Organised               47               Medium   \n",
       "2                      Organised               47               Medium   \n",
       "3                      Organised               60               Medium   \n",
       "4                      Organised               47               Medium   \n",
       "\n",
       "   defenceAggression defenceAggressionClass  defenceTeamWidth  \\\n",
       "0                 55                  Press                45   \n",
       "1                 44                  Press                54   \n",
       "2                 44                  Press                54   \n",
       "3                 70                 Double                70   \n",
       "4                 47                  Press                52   \n",
       "\n",
       "  defenceTeamWidthClass defenceDefenderLineClass  \n",
       "0                Normal                    Cover  \n",
       "1                Normal                    Cover  \n",
       "2                Normal                    Cover  \n",
       "3                  Wide                    Cover  \n",
       "4                Normal                    Cover  \n",
       "\n",
       "[5 rows x 27 columns]"
      ]
     },
     "execution_count": 70,
     "metadata": {},
     "output_type": "execute_result"
    }
   ],
   "source": [
    "df_teams = pd.read_csv('teams.csv')\n",
    "df_teams.head()"
   ]
  },
  {
   "cell_type": "code",
   "execution_count": 71,
   "metadata": {},
   "outputs": [
    {
     "name": "stdout",
     "output_type": "stream",
     "text": [
      "<class 'pandas.core.frame.DataFrame'>\n",
      "RangeIndex: 1458 entries, 0 to 1457\n",
      "Data columns (total 27 columns):\n",
      "team_long_name                    1458 non-null object\n",
      "team_short_name                   1458 non-null object\n",
      "id                                1458 non-null int64\n",
      "team_fifa_api_id                  1458 non-null int64\n",
      "team_api_id                       1458 non-null int64\n",
      "date                              1458 non-null object\n",
      "buildUpPlaySpeed                  1458 non-null int64\n",
      "buildUpPlaySpeedClass             1458 non-null object\n",
      "buildUpPlayDribbling              489 non-null float64\n",
      "buildUpPlayDribblingClass         1458 non-null object\n",
      "buildUpPlayPassing                1458 non-null int64\n",
      "buildUpPlayPassingClass           1458 non-null object\n",
      "buildUpPlayPositioningClass       1458 non-null object\n",
      "chanceCreationPassing             1458 non-null int64\n",
      "chanceCreationPassingClass        1458 non-null object\n",
      "chanceCreationCrossing            1458 non-null int64\n",
      "chanceCreationCrossingClass       1458 non-null object\n",
      "chanceCreationShooting            1458 non-null int64\n",
      "chanceCreationShootingClass       1458 non-null object\n",
      "chanceCreationPositioningClass    1458 non-null object\n",
      "defencePressure                   1458 non-null int64\n",
      "defencePressureClass              1458 non-null object\n",
      "defenceAggression                 1458 non-null int64\n",
      "defenceAggressionClass            1458 non-null object\n",
      "defenceTeamWidth                  1458 non-null int64\n",
      "defenceTeamWidthClass             1458 non-null object\n",
      "defenceDefenderLineClass          1458 non-null object\n",
      "dtypes: float64(1), int64(11), object(15)\n",
      "memory usage: 307.6+ KB\n"
     ]
    }
   ],
   "source": [
    "#check missing data for dataframe df_teams and type of each columns \n",
    "df_teams.info()"
   ]
  },
  {
   "cell_type": "code",
   "execution_count": 72,
   "metadata": {},
   "outputs": [
    {
     "data": {
      "text/plain": [
       "0"
      ]
     },
     "execution_count": 72,
     "metadata": {},
     "output_type": "execute_result"
    }
   ],
   "source": [
    "# check duplicated rows for teams\n",
    "sum(df_teams.duplicated())"
   ]
  },
  {
   "cell_type": "code",
   "execution_count": 73,
   "metadata": {},
   "outputs": [
    {
     "data": {
      "text/plain": [
       "array(['Little'], dtype=object)"
      ]
     },
     "execution_count": 73,
     "metadata": {},
     "output_type": "execute_result"
    }
   ],
   "source": [
    "# classes of Dribbling when build up Play Dribbling is null\n",
    "df_teams[df_teams.buildUpPlayDribbling.isnull()]['buildUpPlayDribblingClass'].unique()"
   ]
  },
  {
   "cell_type": "code",
   "execution_count": 74,
   "metadata": {},
   "outputs": [
    {
     "data": {
      "text/plain": [
       "array(['Little', 'Normal', 'Lots'], dtype=object)"
      ]
     },
     "execution_count": 74,
     "metadata": {},
     "output_type": "execute_result"
    }
   ],
   "source": [
    "# classes of Dribbling\n",
    "df_teams['buildUpPlayDribblingClass'].unique()"
   ]
  },
  {
   "cell_type": "code",
   "execution_count": 129,
   "metadata": {},
   "outputs": [
    {
     "data": {
      "text/html": [
       "<div>\n",
       "<style scoped>\n",
       "    .dataframe tbody tr th:only-of-type {\n",
       "        vertical-align: middle;\n",
       "    }\n",
       "\n",
       "    .dataframe tbody tr th {\n",
       "        vertical-align: top;\n",
       "    }\n",
       "\n",
       "    .dataframe thead th {\n",
       "        text-align: right;\n",
       "    }\n",
       "</style>\n",
       "<table border=\"1\" class=\"dataframe\">\n",
       "  <thead>\n",
       "    <tr style=\"text-align: right;\">\n",
       "      <th></th>\n",
       "      <th>player_api_id</th>\n",
       "      <th>player_fifa_api_id</th>\n",
       "      <th>player_name</th>\n",
       "      <th>date</th>\n",
       "      <th>overall_rating</th>\n",
       "      <th>penalties</th>\n",
       "    </tr>\n",
       "  </thead>\n",
       "  <tbody>\n",
       "    <tr>\n",
       "      <th>0</th>\n",
       "      <td>505942</td>\n",
       "      <td>218353</td>\n",
       "      <td>Aaron Appindangoye</td>\n",
       "      <td>2016-02-18 00:00:00</td>\n",
       "      <td>67.0</td>\n",
       "      <td>48.0</td>\n",
       "    </tr>\n",
       "    <tr>\n",
       "      <th>1</th>\n",
       "      <td>505942</td>\n",
       "      <td>218353</td>\n",
       "      <td>Aaron Appindangoye</td>\n",
       "      <td>2015-11-19 00:00:00</td>\n",
       "      <td>67.0</td>\n",
       "      <td>48.0</td>\n",
       "    </tr>\n",
       "    <tr>\n",
       "      <th>2</th>\n",
       "      <td>505942</td>\n",
       "      <td>218353</td>\n",
       "      <td>Aaron Appindangoye</td>\n",
       "      <td>2015-09-21 00:00:00</td>\n",
       "      <td>62.0</td>\n",
       "      <td>48.0</td>\n",
       "    </tr>\n",
       "    <tr>\n",
       "      <th>3</th>\n",
       "      <td>505942</td>\n",
       "      <td>218353</td>\n",
       "      <td>Aaron Appindangoye</td>\n",
       "      <td>2015-03-20 00:00:00</td>\n",
       "      <td>61.0</td>\n",
       "      <td>47.0</td>\n",
       "    </tr>\n",
       "    <tr>\n",
       "      <th>4</th>\n",
       "      <td>505942</td>\n",
       "      <td>218353</td>\n",
       "      <td>Aaron Appindangoye</td>\n",
       "      <td>2007-02-22 00:00:00</td>\n",
       "      <td>61.0</td>\n",
       "      <td>47.0</td>\n",
       "    </tr>\n",
       "  </tbody>\n",
       "</table>\n",
       "</div>"
      ],
      "text/plain": [
       "   player_api_id  player_fifa_api_id         player_name                 date  \\\n",
       "0         505942              218353  Aaron Appindangoye  2016-02-18 00:00:00   \n",
       "1         505942              218353  Aaron Appindangoye  2015-11-19 00:00:00   \n",
       "2         505942              218353  Aaron Appindangoye  2015-09-21 00:00:00   \n",
       "3         505942              218353  Aaron Appindangoye  2015-03-20 00:00:00   \n",
       "4         505942              218353  Aaron Appindangoye  2007-02-22 00:00:00   \n",
       "\n",
       "   overall_rating  penalties  \n",
       "0            67.0       48.0  \n",
       "1            67.0       48.0  \n",
       "2            62.0       48.0  \n",
       "3            61.0       47.0  \n",
       "4            61.0       47.0  "
      ]
     },
     "execution_count": 129,
     "metadata": {},
     "output_type": "execute_result"
    }
   ],
   "source": [
    "# define data frame for players\n",
    "df_players = pd.read_csv('players.csv')\n",
    "df_players.head()"
   ]
  },
  {
   "cell_type": "code",
   "execution_count": 130,
   "metadata": {},
   "outputs": [
    {
     "name": "stdout",
     "output_type": "stream",
     "text": [
      "<class 'pandas.core.frame.DataFrame'>\n",
      "RangeIndex: 183978 entries, 0 to 183977\n",
      "Data columns (total 6 columns):\n",
      "player_api_id         183978 non-null int64\n",
      "player_fifa_api_id    183978 non-null int64\n",
      "player_name           183766 non-null object\n",
      "date                  183978 non-null object\n",
      "overall_rating        183142 non-null float64\n",
      "penalties             183142 non-null float64\n",
      "dtypes: float64(2), int64(2), object(2)\n",
      "memory usage: 8.4+ MB\n"
     ]
    }
   ],
   "source": [
    "# check the type of columns and number of each row for df_players\n",
    "df_players.info()"
   ]
  },
  {
   "cell_type": "code",
   "execution_count": 131,
   "metadata": {},
   "outputs": [
    {
     "data": {
      "text/plain": [
       "1"
      ]
     },
     "execution_count": 131,
     "metadata": {},
     "output_type": "execute_result"
    }
   ],
   "source": [
    "# check number of duplicated for df_players\n",
    "sum(df_players.duplicated())"
   ]
  },
  {
   "cell_type": "markdown",
   "metadata": {},
   "source": [
    "> **Tip**: You should _not_ perform too many operations in each cell. Create cells freely to explore your data. One option that you can take with this project is to do a lot of explorations in an initial notebook. These don't have to be organized, but make sure you use enough comments to understand the purpose of each code cell. Then, after you're done with your analysis, create a duplicate notebook where you will trim the excess and organize your steps so that you have a flowing, cohesive report.\n",
    "\n",
    "> **Tip**: Make sure that you keep your reader informed on the steps that you are taking in your investigation. Follow every code cell, or every set of related code cells, with a markdown cell to describe to the reader what was found in the preceding cell(s). Try to make it so that the reader can then understand what they will be seeing in the following cell(s).\n",
    "\n",
    "### Data Cleaning (drop columns and clear missing values)"
   ]
  },
  {
   "cell_type": "code",
   "execution_count": 78,
   "metadata": {},
   "outputs": [],
   "source": [
    "# remove nothing important columns to my Questions first for teams\n",
    "# if column name contains name Class then rename it to True else let it default name\n",
    "df_teams.rename(columns=lambda x: True if 'Class' in x else x , inplace = True)"
   ]
  },
  {
   "cell_type": "code",
   "execution_count": 86,
   "metadata": {},
   "outputs": [],
   "source": [
    "df_teams.drop(columns = ['id',True], inplace = True)"
   ]
  },
  {
   "cell_type": "code",
   "execution_count": 88,
   "metadata": {},
   "outputs": [],
   "source": [
    "df_teams.drop(columns = ['buildUpPlayDribbling'], inplace = True)"
   ]
  },
  {
   "cell_type": "code",
   "execution_count": 89,
   "metadata": {},
   "outputs": [
    {
     "data": {
      "text/html": [
       "<div>\n",
       "<style scoped>\n",
       "    .dataframe tbody tr th:only-of-type {\n",
       "        vertical-align: middle;\n",
       "    }\n",
       "\n",
       "    .dataframe tbody tr th {\n",
       "        vertical-align: top;\n",
       "    }\n",
       "\n",
       "    .dataframe thead th {\n",
       "        text-align: right;\n",
       "    }\n",
       "</style>\n",
       "<table border=\"1\" class=\"dataframe\">\n",
       "  <thead>\n",
       "    <tr style=\"text-align: right;\">\n",
       "      <th></th>\n",
       "      <th>team_long_name</th>\n",
       "      <th>team_short_name</th>\n",
       "      <th>team_fifa_api_id</th>\n",
       "      <th>team_api_id</th>\n",
       "      <th>date</th>\n",
       "      <th>buildUpPlaySpeed</th>\n",
       "      <th>buildUpPlayPassing</th>\n",
       "      <th>chanceCreationPassing</th>\n",
       "      <th>chanceCreationCrossing</th>\n",
       "      <th>chanceCreationShooting</th>\n",
       "      <th>defencePressure</th>\n",
       "      <th>defenceAggression</th>\n",
       "      <th>defenceTeamWidth</th>\n",
       "    </tr>\n",
       "  </thead>\n",
       "  <tbody>\n",
       "    <tr>\n",
       "      <th>0</th>\n",
       "      <td>FC Aarau</td>\n",
       "      <td>AAR</td>\n",
       "      <td>434</td>\n",
       "      <td>9930</td>\n",
       "      <td>2010-02-22 00:00:00</td>\n",
       "      <td>60</td>\n",
       "      <td>50</td>\n",
       "      <td>60</td>\n",
       "      <td>65</td>\n",
       "      <td>55</td>\n",
       "      <td>50</td>\n",
       "      <td>55</td>\n",
       "      <td>45</td>\n",
       "    </tr>\n",
       "    <tr>\n",
       "      <th>1</th>\n",
       "      <td>FC Aarau</td>\n",
       "      <td>AAR</td>\n",
       "      <td>434</td>\n",
       "      <td>9930</td>\n",
       "      <td>2014-09-19 00:00:00</td>\n",
       "      <td>52</td>\n",
       "      <td>56</td>\n",
       "      <td>54</td>\n",
       "      <td>63</td>\n",
       "      <td>64</td>\n",
       "      <td>47</td>\n",
       "      <td>44</td>\n",
       "      <td>54</td>\n",
       "    </tr>\n",
       "    <tr>\n",
       "      <th>2</th>\n",
       "      <td>FC Aarau</td>\n",
       "      <td>AAR</td>\n",
       "      <td>434</td>\n",
       "      <td>9930</td>\n",
       "      <td>2015-09-10 00:00:00</td>\n",
       "      <td>47</td>\n",
       "      <td>54</td>\n",
       "      <td>54</td>\n",
       "      <td>63</td>\n",
       "      <td>64</td>\n",
       "      <td>47</td>\n",
       "      <td>44</td>\n",
       "      <td>54</td>\n",
       "    </tr>\n",
       "    <tr>\n",
       "      <th>3</th>\n",
       "      <td>Aberdeen</td>\n",
       "      <td>ABE</td>\n",
       "      <td>77</td>\n",
       "      <td>8485</td>\n",
       "      <td>2010-02-22 00:00:00</td>\n",
       "      <td>70</td>\n",
       "      <td>70</td>\n",
       "      <td>70</td>\n",
       "      <td>70</td>\n",
       "      <td>70</td>\n",
       "      <td>60</td>\n",
       "      <td>70</td>\n",
       "      <td>70</td>\n",
       "    </tr>\n",
       "    <tr>\n",
       "      <th>4</th>\n",
       "      <td>Aberdeen</td>\n",
       "      <td>ABE</td>\n",
       "      <td>77</td>\n",
       "      <td>8485</td>\n",
       "      <td>2011-02-22 00:00:00</td>\n",
       "      <td>47</td>\n",
       "      <td>52</td>\n",
       "      <td>53</td>\n",
       "      <td>48</td>\n",
       "      <td>52</td>\n",
       "      <td>47</td>\n",
       "      <td>47</td>\n",
       "      <td>52</td>\n",
       "    </tr>\n",
       "  </tbody>\n",
       "</table>\n",
       "</div>"
      ],
      "text/plain": [
       "  team_long_name team_short_name  team_fifa_api_id  team_api_id  \\\n",
       "0       FC Aarau             AAR               434         9930   \n",
       "1       FC Aarau             AAR               434         9930   \n",
       "2       FC Aarau             AAR               434         9930   \n",
       "3       Aberdeen             ABE                77         8485   \n",
       "4       Aberdeen             ABE                77         8485   \n",
       "\n",
       "                  date  buildUpPlaySpeed  buildUpPlayPassing  \\\n",
       "0  2010-02-22 00:00:00                60                  50   \n",
       "1  2014-09-19 00:00:00                52                  56   \n",
       "2  2015-09-10 00:00:00                47                  54   \n",
       "3  2010-02-22 00:00:00                70                  70   \n",
       "4  2011-02-22 00:00:00                47                  52   \n",
       "\n",
       "   chanceCreationPassing  chanceCreationCrossing  chanceCreationShooting  \\\n",
       "0                     60                      65                      55   \n",
       "1                     54                      63                      64   \n",
       "2                     54                      63                      64   \n",
       "3                     70                      70                      70   \n",
       "4                     53                      48                      52   \n",
       "\n",
       "   defencePressure  defenceAggression  defenceTeamWidth  \n",
       "0               50                 55                45  \n",
       "1               47                 44                54  \n",
       "2               47                 44                54  \n",
       "3               60                 70                70  \n",
       "4               47                 47                52  "
      ]
     },
     "execution_count": 89,
     "metadata": {},
     "output_type": "execute_result"
    }
   ],
   "source": [
    "df_teams.head()"
   ]
  },
  {
   "cell_type": "code",
   "execution_count": 126,
   "metadata": {},
   "outputs": [
    {
     "name": "stdout",
     "output_type": "stream",
     "text": [
      "<class 'pandas.core.frame.DataFrame'>\n",
      "RangeIndex: 1458 entries, 0 to 1457\n",
      "Data columns (total 13 columns):\n",
      "team_long_name            1458 non-null object\n",
      "team_short_name           1458 non-null object\n",
      "team_fifa_api_id          1458 non-null int64\n",
      "team_api_id               1458 non-null int64\n",
      "date                      1458 non-null datetime64[ns]\n",
      "buildUpPlaySpeed          1458 non-null int64\n",
      "buildUpPlayPassing        1458 non-null int64\n",
      "chanceCreationPassing     1458 non-null int64\n",
      "chanceCreationCrossing    1458 non-null int64\n",
      "chanceCreationShooting    1458 non-null int64\n",
      "defencePressure           1458 non-null int64\n",
      "defenceAggression         1458 non-null int64\n",
      "defenceTeamWidth          1458 non-null int64\n",
      "dtypes: datetime64[ns](1), int64(10), object(2)\n",
      "memory usage: 148.2+ KB\n"
     ]
    }
   ],
   "source": [
    "#convert type of date from string to timedate from df_teams\n",
    "df_teams['date'] = pd.to_datetime(df_teams['date'])\n",
    "df_teams.info()"
   ]
  },
  {
   "cell_type": "code",
   "execution_count": 132,
   "metadata": {},
   "outputs": [
    {
     "name": "stdout",
     "output_type": "stream",
     "text": [
      "<class 'pandas.core.frame.DataFrame'>\n",
      "RangeIndex: 183978 entries, 0 to 183977\n",
      "Data columns (total 6 columns):\n",
      "player_api_id         183978 non-null int64\n",
      "player_fifa_api_id    183978 non-null int64\n",
      "player_name           183766 non-null object\n",
      "date                  183978 non-null datetime64[ns]\n",
      "overall_rating        183142 non-null float64\n",
      "penalties             183142 non-null float64\n",
      "dtypes: datetime64[ns](1), float64(2), int64(2), object(1)\n",
      "memory usage: 8.4+ MB\n"
     ]
    }
   ],
   "source": [
    "#convert type of date from stirng to timedate from df_players\n",
    "df_players['date'] = pd.to_datetime(df_players['date'])\n",
    "df_players.info()"
   ]
  },
  {
   "cell_type": "code",
   "execution_count": 140,
   "metadata": {},
   "outputs": [
    {
     "name": "stdout",
     "output_type": "stream",
     "text": [
      "<class 'pandas.core.frame.DataFrame'>\n",
      "RangeIndex: 183978 entries, 0 to 183977\n",
      "Data columns (total 5 columns):\n",
      "player_api_id         183978 non-null int64\n",
      "player_fifa_api_id    183978 non-null int64\n",
      "date                  183978 non-null datetime64[ns]\n",
      "overall_rating        183142 non-null float64\n",
      "penalties             183142 non-null float64\n",
      "dtypes: datetime64[ns](1), float64(2), int64(2)\n",
      "memory usage: 7.0 MB\n"
     ]
    }
   ],
   "source": [
    "#make copy for df_players and remove comlumn player_name from orginal\n",
    "df_p_copy = df_players.copy()\n",
    "df_players.drop(columns = 'player_name', inplace = True)\n",
    "df_players.info()"
   ]
  },
  {
   "cell_type": "code",
   "execution_count": 142,
   "metadata": {},
   "outputs": [
    {
     "name": "stdout",
     "output_type": "stream",
     "text": [
      "<class 'pandas.core.frame.DataFrame'>\n",
      "Int64Index: 183142 entries, 0 to 183977\n",
      "Data columns (total 5 columns):\n",
      "player_api_id         183142 non-null int64\n",
      "player_fifa_api_id    183142 non-null int64\n",
      "date                  183142 non-null datetime64[ns]\n",
      "overall_rating        183142 non-null float64\n",
      "penalties             183142 non-null float64\n",
      "dtypes: datetime64[ns](1), float64(2), int64(2)\n",
      "memory usage: 8.4 MB\n"
     ]
    }
   ],
   "source": [
    "#remove null values from df_players\n",
    "df_players.dropna(inplace = True)\n",
    "df_players.info()"
   ]
  },
  {
   "cell_type": "markdown",
   "metadata": {},
   "source": [
    "<a id='eda'></a>\n",
    "## Exploratory Data Analysis\n",
    "\n",
    "> **Tip**: Now that you've trimmed and cleaned your data, you're ready to move on to exploration. Compute statistics and create visualizations with the goal of addressing the research questions that you posed in the Introduction section. It is recommended that you be systematic with your approach. Look at one variable at a time, and then follow it up by looking at relationships between variables.\n",
    "\n",
    "### Research Question 1 (Replace this header name!)"
   ]
  },
  {
   "cell_type": "code",
   "execution_count": null,
   "metadata": {
    "collapsed": true
   },
   "outputs": [],
   "source": [
    "# Use this, and more code cells, to explore your data. Don't forget to add\n",
    "#   Markdown cells to document your observations and findings.\n"
   ]
  },
  {
   "cell_type": "markdown",
   "metadata": {},
   "source": [
    "### Research Question 2  (Replace this header name!)"
   ]
  },
  {
   "cell_type": "code",
   "execution_count": null,
   "metadata": {
    "collapsed": true
   },
   "outputs": [],
   "source": [
    "# Continue to explore the data to address your additional research\n",
    "#   questions. Add more headers as needed if you have more questions to\n",
    "#   investigate.\n"
   ]
  },
  {
   "cell_type": "markdown",
   "metadata": {},
   "source": [
    "<a id='conclusions'></a>\n",
    "## Conclusions\n",
    "\n",
    "> **Tip**: Finally, summarize your findings and the results that have been performed. Make sure that you are clear with regards to the limitations of your exploration. If you haven't done any statistical tests, do not imply any statistical conclusions. And make sure you avoid implying causation from correlation!\n",
    "\n",
    "> **Tip**: Once you are satisfied with your work, you should save a copy of the report in HTML or PDF form via the **File** > **Download as** submenu. Before exporting your report, check over it to make sure that the flow of the report is complete. You should probably remove all of the \"Tip\" quotes like this one so that the presentation is as tidy as possible. Congratulations!"
   ]
  },
  {
   "cell_type": "code",
   "execution_count": null,
   "metadata": {
    "collapsed": true
   },
   "outputs": [],
   "source": []
  }
 ],
 "metadata": {
  "kernelspec": {
   "display_name": "Python [default]",
   "language": "python",
   "name": "python3"
  },
  "language_info": {
   "codemirror_mode": {
    "name": "ipython",
    "version": 3
   },
   "file_extension": ".py",
   "mimetype": "text/x-python",
   "name": "python",
   "nbconvert_exporter": "python",
   "pygments_lexer": "ipython3",
   "version": "3.6.6"
  }
 },
 "nbformat": 4,
 "nbformat_minor": 2
}
